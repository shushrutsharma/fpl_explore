{
 "cells": [
  {
   "cell_type": "raw",
   "metadata": {},
   "source": [
    "# Pl -- Number of Players used in Games\n",
    "Poss -- Possession\n",
    "Calculated as the percentage of passes attempted\n",
    "Playing Time\n",
    "MP -- Matches Played\n",
    "Matches Played by the player or squad\n",
    "Starts -- Starts\n",
    "Game or games started by player\n",
    "Min -- Minutes\n",
    "Performance\n",
    "Gls -- Goals\n",
    "Goals scored or allowed\n",
    "Ast -- Assists\n",
    "PK -- Penalty Kicks Made\n",
    "PKatt -- Penalty Kicks Attempted\n",
    "CrdY -- Yellow Cards\n",
    "CrdR -- Red Cards\n",
    "Per 90 Minutes\n",
    "Gls -- Goals Scored per 90 minutes\n",
    "Minimum 30 minutes played per squad game to qualify as a leader\n",
    "Ast -- Assists per 90 minutes\n",
    "Minimum 30 minutes played per squad game to qualify as a leader\n",
    "G+A -- Goals and Assists per 90 minutes\n",
    "Minimum 30 minutes played per squad game to qualify as a leader\n",
    "G-PK -- Goals minus Penalty Kicks made per 90 minutes\n",
    "Minimum 30 minutes played per squad game to qualify as a leader\n",
    "G+A-PK -- Goals plus Assists minus Penalty Kicks made per 90 minutes\n",
    "Minimum 30 minutes played per squad game to qualify as a leader\n",
    "Expected\n",
    "xG -- Expected Goals\n",
    "xG totals include penalty kicks, but do not include penalty shootouts (unless otherwise noted).\n",
    "Provided by StatsBomb.\n",
    "An underline indicates there is a match that is missing data, but will be updated when available.\n",
    "npxG -- Non-Penalty Expected Goals\n",
    "Provided by StatsBomb.\n",
    "An underline indicates there is a match that is missing data, but will be updated when available.\n",
    "xA -- xG Assisted\n",
    "xG which follows a pass that assists a shot\n",
    "Provided by StatsBomb.\n",
    "An underline indicates there is a match that is missing data, but will be updated when available.\n",
    "Per 90 Minutes\n",
    "xG -- Expected Goals per 90 minutes\n",
    "xG totals include penalty kicks, but do not include penalty shootouts (unless otherwise noted).\n",
    "Provided by StatsBomb.\n",
    "An underline indicates there is a match that is missing data, but will be updated when available.\n",
    "Minimum 30 minutes played per squad game to qualify as a leader\n",
    "xA -- xG Assisted per 90 minutes\n",
    "Provided by StatsBomb.\n",
    "An underline indicates there is a match that is missing data, but will be updated when available.\n",
    "Minimum 30 minutes played per squad game to qualify as a leader\n",
    "xG+xA -- Expected Goals plus Assist per 90 minutes\n",
    "xG totals include penalty kicks, but do not include penalty shootouts (unless otherwise noted).\n",
    "Provided by StatsBomb.\n",
    "An underline indicates there is a match that is missing data, but will be updated when available.\n",
    "Minimum 30 minutes played per squad game to qualify as a leader\n",
    "npxG -- Non-Penalty Expected Goals per 90 minutes\n",
    "Provided by StatsBomb.\n",
    "An underline indicates there is a match that is missing data, but will be updated when available.\n",
    "Minimum 30 minutes played per squad game to qualify as a leader\n",
    "npxG+xA -- Non-Penalty Expected Goals plus xG Assisted per 90 minutes\n",
    "Provided by StatsBomb.\n",
    "An underline indicates there is a match that is missing data, but will be updated when available.\n",
    "Minimum 30 minutes played per squad game to qualify as a leader"
   ]
  },
  {
   "cell_type": "code",
   "execution_count": 1,
   "metadata": {},
   "outputs": [],
   "source": [
    "import pandas as pd\n",
    "import matplotlib.pyplot as plt\n",
    "import seaborn as sns\n",
    "import plotly\n",
    "pd.set_option('max_columns',500)"
   ]
  },
  {
   "cell_type": "code",
   "execution_count": 2,
   "metadata": {
    "scrolled": true
   },
   "outputs": [],
   "source": [
    "outfield_data = pd.read_csv('2019-20_out.csv')\n",
    "keeper_data = pd.read_csv('2019-20_gk.csv')"
   ]
  },
  {
   "cell_type": "code",
   "execution_count": 3,
   "metadata": {},
   "outputs": [
    {
     "name": "stdout",
     "output_type": "stream",
     "text": [
      "'player', 'nationality', 'position', 'squad', 'age', 'birth_year', 'games', 'games_starts', 'minutes', 'goals', 'assists', 'pens_made', 'pens_att', 'cards_yellow', 'cards_red', 'goals_per90', 'assists_per90', 'goals_assists_per90', 'goals_pens_per90', 'goals_assists_pens_per90', 'xg', 'npxg', 'xa', 'xg_per90', 'xa_per90', 'xg_xa_per90', 'npxg_per90', 'npxg_xa_per90', 'minutes_90s', 'shots_total', 'shots_on_target', 'shots_free_kicks', 'shots_on_target_pct', 'shots_total_per90', 'shots_on_target_per90', 'goals_per_shot', 'goals_per_shot_on_target', 'npxg_per_shot', 'xg_net', 'npxg_net', 'passes_completed', 'passes', 'passes_pct', 'passes_total_distance', 'passes_progressive_distance', 'passes_completed_short', 'passes_short', 'passes_pct_short', 'passes_completed_medium', 'passes_medium', 'passes_pct_medium', 'passes_completed_long', 'passes_long', 'passes_pct_long', 'xa_net', 'assisted_shots', 'passes_into_final_third', 'passes_into_penalty_area', 'crosses_into_penalty_area', 'progressive_passes', 'passes_live', 'passes_dead', 'passes_free_kicks', 'through_balls', 'passes_pressure', 'passes_switches', 'crosses', 'corner_kicks', 'corner_kicks_in', 'corner_kicks_out', 'corner_kicks_straight', 'passes_ground', 'passes_low', 'passes_high', 'passes_left_foot', 'passes_right_foot', 'passes_head', 'throw_ins', 'passes_other_body', 'passes_offsides', 'passes_oob', 'passes_intercepted', 'passes_blocked', 'sca', 'sca_per90', 'sca_passes_live', 'sca_passes_dead', 'sca_dribbles', 'sca_shots', 'sca_fouled', 'gca', 'gca_per90', 'gca_passes_live', 'gca_passes_dead', 'gca_dribbles', 'gca_shots', 'gca_fouled', 'gca_og_for', 'tackles', 'tackles_won', 'tackles_def_3rd', 'tackles_mid_3rd', 'tackles_att_3rd', 'dribble_tackles', 'dribbles_vs', 'dribble_tackles_pct', 'dribbled_past', 'pressures', 'pressure_regains', 'pressure_regain_pct', 'pressures_def_3rd', 'pressures_mid_3rd', 'pressures_att_3rd', 'blocks', 'blocked_shots', 'blocked_shots_saves', 'blocked_passes', 'interceptions', 'clearances', 'errors', 'touches', 'touches_def_pen_area', 'touches_def_3rd', 'touches_mid_3rd', 'touches_att_3rd', 'touches_att_pen_area', 'touches_live_ball', 'dribbles_completed', 'dribbles', 'dribbles_completed_pct', 'players_dribbled_past', 'nutmegs', 'carries', 'carry_distance', 'carry_progressive_distance', 'pass_targets', 'passes_received', 'passes_received_pct', 'miscontrols', 'dispossessed', 'cards_yellow_red', 'fouls', 'fouled', 'offsides', 'pens_won', 'pens_conceded', 'own_goals', 'ball_recoveries', 'aerials_won', 'aerials_lost', 'aerials_won_pct', "
     ]
    }
   ],
   "source": [
    "for i in outfield_data.columns:\n",
    "    print(\"'%s'\"%i,end=', ')"
   ]
  },
  {
   "cell_type": "code",
   "execution_count": 4,
   "metadata": {},
   "outputs": [
    {
     "name": "stdout",
     "output_type": "stream",
     "text": [
      "'player', 'nationality', 'position', 'squad', 'age', 'birth_year', 'games_gk', 'games_starts_gk', 'minutes_gk', 'goals_against_gk', 'goals_against_per90_gk', 'shots_on_target_against', 'saves', 'save_pct', 'wins_gk', 'draws_gk', 'losses_gk', 'clean_sheets', 'clean_sheets_pct', 'pens_att_gk', 'pens_allowed', 'pens_saved', 'pens_missed_gk', 'minutes_90s_gk', 'free_kick_goals_against_gk', 'corner_kick_goals_against_gk', 'own_goals_against_gk', 'psxg_gk', 'psnpxg_per_shot_on_target_against', 'psxg_net_gk', 'psxg_net_per90_gk', 'passes_completed_launched_gk', 'passes_launched_gk', 'passes_pct_launched_gk', 'passes_gk', 'passes_throws_gk', 'pct_passes_launched_gk', 'passes_length_avg_gk', 'goal_kicks', 'pct_goal_kicks_launched', 'goal_kick_length_avg', 'crosses_gk', 'crosses_stopped_gk', 'crosses_stopped_pct_gk', 'def_actions_outside_pen_area_gk', 'def_actions_outside_pen_area_per90_gk', 'avg_distance_def_actions_gk', "
     ]
    }
   ],
   "source": [
    "for i in keeper_data.columns:\n",
    "    print(\"'%s'\"%i,end=', ')"
   ]
  },
  {
   "cell_type": "code",
   "execution_count": null,
   "metadata": {},
   "outputs": [],
   "source": []
  }
 ],
 "metadata": {
  "kernelspec": {
   "display_name": "Python 3.7.2 64-bit",
   "language": "python",
   "name": "python37264bit40924f3896e942cbb3a3f4546821c3e7"
  },
  "language_info": {
   "codemirror_mode": {
    "name": "ipython",
    "version": 3
   },
   "file_extension": ".py",
   "mimetype": "text/x-python",
   "name": "python",
   "nbconvert_exporter": "python",
   "pygments_lexer": "ipython3",
   "version": "3.7.2"
  }
 },
 "nbformat": 4,
 "nbformat_minor": 2
}
